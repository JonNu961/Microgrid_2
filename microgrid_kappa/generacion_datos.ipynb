{
 "cells": [
  {
   "cell_type": "code",
   "execution_count": 30,
   "id": "9a1ea235",
   "metadata": {},
   "outputs": [
    {
     "name": "stderr",
     "output_type": "stream",
     "text": [
      "C:\\Users\\jonnu\\AppData\\Local\\Temp\\ipykernel_23908\\3393824449.py:7: FutureWarning: 'H' is deprecated and will be removed in a future version, please use 'h' instead.\n",
      "  fechas = pd.date_range(start=\"2021-01-01 00:00\", end=\"2021-12-31 23:00\", freq='H')\n"
     ]
    }
   ],
   "source": [
    "import pandas as pd\n",
    "import numpy as np\n",
    "\n",
    "np.random.seed(42)\n",
    "\n",
    "# Primero generamos el rango de datos horarios para el año 2021 y después aplicar la lógica del precio para 2.0 TD.\n",
    "fechas = pd.date_range(start=\"2021-01-01 00:00\", end=\"2021-12-31 23:00\", freq='H')\n",
    "df = pd.DataFrame({'datetime': fechas})\n",
    "df['hour'] = df['datetime'].dt.hour\n",
    "df['month'] = df['datetime'].dt.month\n",
    "df['weekday'] = df['datetime'].dt.weekday  # En orden, 0 se asignaría al lunes y 6 se correspondería al domingo.\n",
    "\n",
    "# Simulamos una demanda de carga de la casa realista; a la noche se demandará más energía que a la mañana.\n",
    "def demanda_realista(hour):\n",
    "    # En un principio se supuso una demanda hiper realista que abarcaba desde 500 W hasta los 6.5 kW. Sin embargo, \n",
    "    # la producción de las fuentes renovables (nuestros modelos) no es tan grande como para abastecer una demanda hiper realista\n",
    "    # de un inmueble, y es por ello que se ha adaptado para lograr resultados en todos los apartados más lógicos.\n",
    "    if 20 <= hour or hour < 5:\n",
    "        return np.random.uniform(700, 1100)  # Demanda noche. \n",
    "    elif 12 <= hour < 20:\n",
    "        return np.random.uniform(300, 500)  # Demanda de tarde.\n",
    "    else:\n",
    "        return np.random.uniform(100, 300)  # Demanda a la mañana/mediodía.\n",
    "\n",
    "df['demanda'] = df['hour'].apply(demanda_realista) # Nuestra columna con la carga de demanda de Watts por hora.\n",
    "\n",
    "# El siguiente paso constará en asignar el periodo horario según lo establecido en el BOE para el peaje 2.0 TD\n",
    "def asignar_periodo(row):\n",
    "    if row['weekday'] >= 5:\n",
    "        return 'P3'\n",
    "    if row['month'] in [6, 7, 8, 9]:  # Periodo de verano.\n",
    "        if 10 <= row['hour'] < 16:\n",
    "            return 'P1'\n",
    "        elif 8 <= row['hour'] < 10 or 16 <= row['hour'] < 24:\n",
    "            return 'P2'\n",
    "        else:\n",
    "            return 'P3'\n",
    "    else:  # Resto del año.\n",
    "        if 18 <= row['hour'] < 22:\n",
    "            return 'P1'\n",
    "        elif 8 <= row['hour'] < 18 or 22 <= row['hour'] < 24:\n",
    "            return 'P2'\n",
    "        else:\n",
    "            return 'P3'\n",
    "\n",
    "df['periodo'] = df.apply(asignar_periodo, axis=1)\n",
    "\n",
    "# Para cada periodo que hemos designado, asignamos los precios que le corresponde a cada uno.\n",
    "precios = {'P1': 0.027787/1000, 'P2': 0.019146/1000, 'P3': 0.000703/1000} # €/Wh.\n",
    "df['precio_eur_Wh'] = df['periodo'].map(precios) # Este será nuestra columna con los precios horarios de la energía.\n",
    "\n",
    "# # Paso 5: Calcular coste horario\n",
    "# df['coste_eur'] = df['demanda'] * df['precio_eur_kWh']\n",
    "\n",
    "# # Resultado final\n",
    "# df_final = df[['datetime', 'demanda', 'periodo', 'precio_eur_kWh', 'coste_eur']]\n",
    "\n",
    "# # (Opcional) Guardar a CSV\n",
    "# # df_final.to_csv(\"consumo_casa_2021.csv\", index=False)\n",
    "\n",
    "# print(df_final.head())\n",
    "# print(len(df_final))"
   ]
  },
  {
   "cell_type": "code",
   "execution_count": 31,
   "id": "bd711e19",
   "metadata": {},
   "outputs": [
    {
     "name": "stdout",
     "output_type": "stream",
     "text": [
      "8760\n"
     ]
    }
   ],
   "source": [
    "# Cargamos el archivo que contiene todas las mediciones necesarías para los agentes eólicos y solares.\n",
    "data = pd.read_csv(\"data/data.csv\")\n",
    "print(len(data))\n",
    "\n",
    "# Hacemos un append con las dos columnas que queremos añadir (precio y demanda (W)).\n",
    "data['precio_eur_Wh'] = df['precio_eur_Wh'].values\n",
    "data['demanda_W'] = df['demanda'].values\n",
    "\n",
    "# Guardamos el nuevo archivo preparado con todo.\n",
    "data.to_csv(\"data/data_complete.csv\")"
   ]
  }
 ],
 "metadata": {
  "kernelspec": {
   "display_name": "base-intel2",
   "language": "python",
   "name": "python3"
  },
  "language_info": {
   "codemirror_mode": {
    "name": "ipython",
    "version": 3
   },
   "file_extension": ".py",
   "mimetype": "text/x-python",
   "name": "python",
   "nbconvert_exporter": "python",
   "pygments_lexer": "ipython3",
   "version": "3.13.2"
  }
 },
 "nbformat": 4,
 "nbformat_minor": 5
}
